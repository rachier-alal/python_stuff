{
 "cells": [
  {
   "cell_type": "code",
   "execution_count": 2,
   "id": "02beb8fd",
   "metadata": {},
   "outputs": [
    {
     "data": {
      "text/plain": [
       "'Write a program that reads values from the user until a blank line is entered. Display\\nthe total of all of the values entered by the user (or 0.0 if the first value entered is\\na blank line). Complete this task using recursion. Your program may not use any\\nloops.'"
      ]
     },
     "execution_count": 2,
     "metadata": {},
     "output_type": "execute_result"
    }
   ],
   "source": [
    "'''Write a program that reads values from the user until a blank line is entered. Display\n",
    "the total of all of the values entered by the user (or 0.0 if the first value entered is\n",
    "a blank line). Complete this task using recursion. Your program may not use any\n",
    "loops.'''"
   ]
  },
  {
   "cell_type": "markdown",
   "id": "8704870c",
   "metadata": {},
   "source": [
    "def readAndTotal():\n",
    "    line=input('enter a number, blank to terminate:')\n",
    "    \n",
    "    if line=='':\n",
    "        return 0\n",
    "    else:\n",
    "        return float(line)+readAndTotal()\n",
    "        \n",
    "def main():\n",
    "    total = readAndTotal()\n",
    "    return total\n",
    "    \n",
    "main()\n"
   ]
  },
  {
   "cell_type": "code",
   "execution_count": 14,
   "id": "1c0229bd",
   "metadata": {},
   "outputs": [
    {
     "ename": "SyntaxError",
     "evalue": "invalid syntax (3256033198.py, line 6)",
     "output_type": "error",
     "traceback": [
      "\u001b[1;36m  Input \u001b[1;32mIn [14]\u001b[1;36m\u001b[0m\n\u001b[1;33m    c=a mod b\u001b[0m\n\u001b[1;37m        ^\u001b[0m\n\u001b[1;31mSyntaxError\u001b[0m\u001b[1;31m:\u001b[0m invalid syntax\n"
     ]
    }
   ],
   "source": [
    "def gcd(a,b):\n",
    "     \n",
    "    if b==0:\n",
    "        return a\n",
    "    else:\n",
    "        c= a % b\n",
    "        return gcd(b,c)\n",
    "    \n",
    "def main():\n",
    "    a=input('enter a number \"a\"')\n",
    "    b=input('enter a number \"b\"')\n",
    "    return gcd(a,b)\n",
    "\n",
    "main()"
   ]
  },
  {
   "cell_type": "code",
   "execution_count": null,
   "id": "399588a8",
   "metadata": {},
   "outputs": [],
   "source": []
  }
 ],
 "metadata": {
  "kernelspec": {
   "display_name": "Python 3 (ipykernel)",
   "language": "python",
   "name": "python3"
  },
  "language_info": {
   "codemirror_mode": {
    "name": "ipython",
    "version": 3
   },
   "file_extension": ".py",
   "mimetype": "text/x-python",
   "name": "python",
   "nbconvert_exporter": "python",
   "pygments_lexer": "ipython3",
   "version": "3.9.12"
  }
 },
 "nbformat": 4,
 "nbformat_minor": 5
}
