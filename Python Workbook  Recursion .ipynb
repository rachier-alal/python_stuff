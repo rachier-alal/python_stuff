{
 "cells": [
  {
   "cell_type": "code",
   "execution_count": 2,
   "id": "55be3d81",
   "metadata": {},
   "outputs": [
    {
     "data": {
      "text/plain": [
       "'Write a program that reads values from the user until a blank line is entered. Display\\nthe total of all of the values entered by the user (or 0.0 if the first value entered is\\na blank line). Complete this task using recursion. Your program may not use any\\nloops.'"
      ]
     },
     "execution_count": 2,
     "metadata": {},
     "output_type": "execute_result"
    }
   ],
   "source": [
    "'''Write a program that reads values from the user until a blank line is entered. Display\n",
    "the total of all of the values entered by the user (or 0.0 if the first value entered is\n",
    "a blank line). Complete this task using recursion. Your program may not use any\n",
    "loops.'''"
   ]
  },
  {
   "cell_type": "markdown",
   "id": "df69a802",
   "metadata": {},
   "source": [
    "def readAndTotal():\n",
    "    line=input('enter a number, blank to terminate:')\n",
    "    \n",
    "    if line=='':\n",
    "        return 0\n",
    "    else:\n",
    "        return float(line)+readAndTotal()\n",
    "        \n",
    "def main():\n",
    "    total = readAndTotal()\n",
    "    return total\n",
    "    \n",
    "main()\n"
   ]
  },
  {
   "cell_type": "code",
   "execution_count": 23,
   "id": "41fce192",
   "metadata": {},
   "outputs": [
    {
     "name": "stdout",
     "output_type": "stream",
     "text": [
      "enter a number \"a\"23976498\n",
      "enter a number \"b\"96\n"
     ]
    },
    {
     "data": {
      "text/plain": [
       "6"
      ]
     },
     "execution_count": 23,
     "metadata": {},
     "output_type": "execute_result"
    }
   ],
   "source": [
    "'''Write a program that implements Euclid’s algorithm and uses it to determine the\n",
    "greatest common divisor of two integers entered by the user'''\n",
    "def gcd(a,b):\n",
    "     \n",
    "    if b==0:\n",
    "        return a\n",
    "    else:\n",
    "        c= int(a) % int(b)\n",
    "        return gcd(b,c)\n",
    "    \n",
    "def main():\n",
    "    a=input('enter a number \"a\"')\n",
    "    b=input('enter a number \"b\"')\n",
    "    return gcd(a,b)\n",
    "\n",
    "main()"
   ]
  },
  {
   "cell_type": "code",
   "execution_count": 33,
   "id": "7b4ea058",
   "metadata": {},
   "outputs": [
    {
     "ename": "SyntaxError",
     "evalue": "invalid syntax (2349566227.py, line 35)",
     "output_type": "error",
     "traceback": [
      "\u001b[1;36m  Input \u001b[1;32mIn [33]\u001b[1;36m\u001b[0m\n\u001b[1;33m    def prime facs:\u001b[0m\n\u001b[1;37m              ^\u001b[0m\n\u001b[1;31mSyntaxError\u001b[0m\u001b[1;31m:\u001b[0m invalid syntax\n"
     ]
    }
   ],
   "source": [
    "'''Write a recursive function that converts a non-negative decimal number to binary.\n",
    "Treat 0 and 1 as base cases which return a string containing the appropriate digit. For\n",
    "all other positive integers, n, you should compute the next digit using the remainder\n",
    "operator and then make a recursive call to compute the digits of n // 2. Finally, you\n",
    "should concatenate the result of the recursive call (which will be a string) and the\n",
    "next digit (which you will need to convert to a string) and return this string as the\n",
    "result of the function.\n",
    "Write a main program that uses your recursive function to convert a non-negative\n",
    "integer entered by the user from decimal to binary. Your program should display an\n",
    "appropriate error message if the user enters a negative value'''\n",
    "\n",
    "\n",
    "# trial for the loop method:\n",
    "# def factors(m):\n",
    "#     n=2\n",
    "#     while n<=m:\n",
    "#         if m % n == 0:\n",
    "#             m= m/n\n",
    "#             print(n)\n",
    "#         else:\n",
    "#             n=n+1\n",
    "\n",
    "            \n",
    "# def main():\n",
    "#     p=input(\"Enter a digit to find its factors:\")\n",
    "#     if int(p)<2:\n",
    "#         return \"Enter a number gte 2\"\n",
    "#     else:\n",
    "#         return \"The prime Factors of \"+ str(p) + \" are :\" + str(factors(int(p)))\n",
    "    \n",
    "# main()\n",
    "\n",
    "# recursion solution\n",
    "\n",
    "def prime facs:\n"
   ]
  },
  {
   "cell_type": "code",
   "execution_count": null,
   "id": "9505f320",
   "metadata": {},
   "outputs": [],
   "source": []
  }
 ],
 "metadata": {
  "kernelspec": {
   "display_name": "Python 3 (ipykernel)",
   "language": "python",
   "name": "python3"
  },
  "language_info": {
   "codemirror_mode": {
    "name": "ipython",
    "version": 3
   },
   "file_extension": ".py",
   "mimetype": "text/x-python",
   "name": "python",
   "nbconvert_exporter": "python",
   "pygments_lexer": "ipython3",
   "version": "3.9.12"
  }
 },
 "nbformat": 4,
 "nbformat_minor": 5
}
