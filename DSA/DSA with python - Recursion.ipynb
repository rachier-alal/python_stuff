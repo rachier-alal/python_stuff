{
 "cells": [
  {
   "cell_type": "code",
   "execution_count": 2,
   "id": "5963fef7",
   "metadata": {},
   "outputs": [],
   "source": [
    "# 1. Write a recursive function called intpow that given a number, x, and an integer, n,\n",
    "# will compute x ^ n. You must write this function recursively to get full credit. Be\n",
    "# sure to put it in a program with several test cases to test that your function works\n",
    "# correctly."
   ]
  },
  {
   "cell_type": "code",
   "execution_count": null,
   "id": "9e8509bd",
   "metadata": {},
   "outputs": [],
   "source": [
    "def intpow(self,x,n) ->int:\n",
    "    if n==0:\n",
    "        return \n",
    "    n=n-1\n",
    "    \n",
    "    xnum="
   ]
  }
 ],
 "metadata": {
  "kernelspec": {
   "display_name": "Python 3 (ipykernel)",
   "language": "python",
   "name": "python3"
  },
  "language_info": {
   "codemirror_mode": {
    "name": "ipython",
    "version": 3
   },
   "file_extension": ".py",
   "mimetype": "text/x-python",
   "name": "python",
   "nbconvert_exporter": "python",
   "pygments_lexer": "ipython3",
   "version": "3.9.12"
  }
 },
 "nbformat": 4,
 "nbformat_minor": 5
}
