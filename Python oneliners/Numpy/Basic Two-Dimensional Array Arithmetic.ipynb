{
 "cells": [
  {
   "cell_type": "code",
   "execution_count": 1,
   "id": "bda3b30f",
   "metadata": {},
   "outputs": [
    {
     "data": {
      "text/plain": [
       "' how do we find the maximum after-tax income in a group of people, given their yearly salary and tax rates?'"
      ]
     },
     "execution_count": 1,
     "metadata": {},
     "output_type": "execute_result"
    }
   ],
   "source": [
    "''' how do we find the maximum after-tax income in a group of people, given their yearly salary and tax rates?'''"
   ]
  },
  {
   "cell_type": "code",
   "execution_count": 3,
   "id": "f706b643",
   "metadata": {},
   "outputs": [],
   "source": [
    "import numpy as np\n",
    "\n",
    "## Data: yearly salary in ($1000) [2017, 2018, 2019]\n",
    "alice = [99, 101, 103]\n",
    "bob = [110, 108, 105]\n",
    "tim = [90, 88, 85]\n",
    "\n",
    "salaries = np.array([alice, bob, tim])\n",
    "taxation = np.array([[0.2, 0.25, 0.22],\n",
    " [0.4, 0.5, 0.5],\n",
    " [0.1, 0.2, 0.1]])\n"
   ]
  },
  {
   "cell_type": "code",
   "execution_count": 9,
   "id": "d4a8aa30",
   "metadata": {},
   "outputs": [
    {
     "name": "stdout",
     "output_type": "stream",
     "text": [
      "81000.0\n",
      "81.0\n"
     ]
    }
   ],
   "source": [
    "ol=(salaries*(1-taxation)).max()*1000\n",
    "print(ol)\n",
    "print(np.max(salaries - salaries * taxation))"
   ]
  }
 ],
 "metadata": {
  "kernelspec": {
   "display_name": "Python 3 (ipykernel)",
   "language": "python",
   "name": "python3"
  },
  "language_info": {
   "codemirror_mode": {
    "name": "ipython",
    "version": 3
   },
   "file_extension": ".py",
   "mimetype": "text/x-python",
   "name": "python",
   "nbconvert_exporter": "python",
   "pygments_lexer": "ipython3",
   "version": "3.9.12"
  }
 },
 "nbformat": 4,
 "nbformat_minor": 5
}
