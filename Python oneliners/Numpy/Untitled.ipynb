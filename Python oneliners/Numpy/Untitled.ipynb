{
 "cells": [
  {
   "cell_type": "markdown",
   "id": "a373db65",
   "metadata": {},
   "source": [
    "# roadcasting, Slice Assignment, and Reshaping to Clean every ith [] element"
   ]
  },
  {
   "cell_type": "code",
   "execution_count": 4,
   "id": "940ee3c1",
   "metadata": {},
   "outputs": [],
   "source": [
    "#slice assignment"
   ]
  },
  {
   "cell_type": "code",
   "execution_count": 6,
   "id": "5005d803",
   "metadata": {},
   "outputs": [],
   "source": [
    "import numpy as np\n",
    "a = np.array([4] *16)"
   ]
  },
  {
   "cell_type": "code",
   "execution_count": 8,
   "id": "ab5345d1",
   "metadata": {},
   "outputs": [
    {
     "name": "stdout",
     "output_type": "stream",
     "text": [
      "[4 4 4 4 4 4 4 4 4 4 4 4 4 4 4 4]\n"
     ]
    }
   ],
   "source": [
    "print(a)"
   ]
  },
  {
   "cell_type": "code",
   "execution_count": 14,
   "id": "99fef96c",
   "metadata": {},
   "outputs": [
    {
     "name": "stdout",
     "output_type": "stream",
     "text": [
      "[ 4 42 42 42 42 42 42 42 42 42 42 42 42 42 42 42]\n"
     ]
    }
   ],
   "source": [
    "a[1::] = [42] * 15 \n",
    "print(a)"
   ]
  },
  {
   "cell_type": "markdown",
   "id": "69b16978",
   "metadata": {},
   "source": [
    "# reshaping\n"
   ]
  },
  {
   "cell_type": "code",
   "execution_count": 16,
   "id": "85b1ef5a",
   "metadata": {},
   "outputs": [
    {
     "name": "stdout",
     "output_type": "stream",
     "text": [
      "[[1 2 3]\n",
      " [4 5 6]]\n"
     ]
    }
   ],
   "source": [
    "a = np.array([1,2,3,4,5,6])\n",
    "print(a.reshape((2,3)))"
   ]
  },
  {
   "cell_type": "code",
   "execution_count": 18,
   "id": "df5b416e",
   "metadata": {},
   "outputs": [],
   "source": [
    "#if no of columns is unambiguous, let numpy figure out the no of columns itself\n"
   ]
  },
  {
   "cell_type": "code",
   "execution_count": 20,
   "id": "cf69fe28",
   "metadata": {},
   "outputs": [
    {
     "name": "stdout",
     "output_type": "stream",
     "text": [
      "[[1 2]\n",
      " [3 4]\n",
      " [5 6]]\n"
     ]
    }
   ],
   "source": [
    "print(a.reshape((3,-5)))"
   ]
  },
  {
   "cell_type": "markdown",
   "id": "9ace2a86",
   "metadata": {},
   "source": [
    "# Axis argument\n"
   ]
  },
  {
   "cell_type": "code",
   "execution_count": 21,
   "id": "32516183",
   "metadata": {},
   "outputs": [
    {
     "data": {
      "text/plain": [
       "'solar_x contains stock prices . Find avg stock prices in the mornings, middays and evinings'"
      ]
     },
     "execution_count": 21,
     "metadata": {},
     "output_type": "execute_result"
    }
   ],
   "source": [
    "\"\"\"solar_x contains stock prices . Find avg stock prices in the mornings, middays and evinings\"\"\""
   ]
  },
  {
   "cell_type": "code",
   "execution_count": 22,
   "id": "bbacb5e7",
   "metadata": {},
   "outputs": [
    {
     "name": "stdout",
     "output_type": "stream",
     "text": [
      "[1.5 2.  4. ]\n"
     ]
    }
   ],
   "source": [
    "# daily stock prices\n",
    "\n",
    "# [morning, midday, evening]\n",
    "solar_x = np.array(\n",
    "                 [[1, 2, 3], # today\n",
    "                 [2, 2, 5]]) # yesterday\n",
    "\n",
    "# midday - weighted average\n",
    "print(np.average(solar_x, axis=0))\n"
   ]
  },
  {
   "cell_type": "markdown",
   "id": "ad3b8ce3",
   "metadata": {},
   "source": [
    "# problem\n"
   ]
  },
  {
   "cell_type": "code",
   "execution_count": 23,
   "id": "563b54e0",
   "metadata": {},
   "outputs": [
    {
     "data": {
      "text/plain": [
       "'given an array of temperature values, replace every seventh \\n    temperature value with the average of the last seven days (including the \\n    seventh day’s temperature value). '"
      ]
     },
     "execution_count": 23,
     "metadata": {},
     "output_type": "execute_result"
    }
   ],
   "source": [
    "\"\"\"given an array of temperature values, replace every seventh \n",
    "    temperature value with the average of the last seven days (including the \n",
    "    seventh day’s temperature value). \"\"\""
   ]
  },
  {
   "cell_type": "code",
   "execution_count": 24,
   "id": "88009ca9",
   "metadata": {},
   "outputs": [],
   "source": [
    "## Sensor data (Mo, Tu, We, Th, Fr, Sa, Su)\n",
    "tmp = np.array([1, 2, 3, 4, 3, 4, 4,\n",
    "                 5, 3, 3, 4, 3, 4, 6,\n",
    "                 6, 5, 5, 5, 4, 5, 5])\n"
   ]
  },
  {
   "cell_type": "markdown",
   "id": "a461a8f3",
   "metadata": {},
   "source": [
    "# Solution\n"
   ]
  },
  {
   "cell_type": "code",
   "execution_count": 26,
   "id": "3798cbe4",
   "metadata": {},
   "outputs": [
    {
     "name": "stdout",
     "output_type": "stream",
     "text": [
      "[1 2 3 4 3 4 3 5 3 3 4 3 4 4 6 5 5 5 4 5 5]\n"
     ]
    }
   ],
   "source": [
    "#select seventh element for replacement\n",
    "#collapse on axis 1 to find average\n",
    "\n",
    "# tmp[:,7] = np.average(tmp,axis=1)\n",
    "\n",
    "\n",
    "tmp[6::7] = np.average(tmp.reshape((-1,7)), axis=1)\n",
    "\n",
    "print(tmp)"
   ]
  }
 ],
 "metadata": {
  "kernelspec": {
   "display_name": "Python 3 (ipykernel)",
   "language": "python",
   "name": "python3"
  },
  "language_info": {
   "codemirror_mode": {
    "name": "ipython",
    "version": 3
   },
   "file_extension": ".py",
   "mimetype": "text/x-python",
   "name": "python",
   "nbconvert_exporter": "python",
   "pygments_lexer": "ipython3",
   "version": "3.9.12"
  }
 },
 "nbformat": 4,
 "nbformat_minor": 5
}
