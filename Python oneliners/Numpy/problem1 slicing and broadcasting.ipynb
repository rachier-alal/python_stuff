{
 "cells": [
  {
   "cell_type": "code",
   "execution_count": 3,
   "id": "99623bb5",
   "metadata": {},
   "outputs": [],
   "source": [
    "import numpy as np"
   ]
  },
  {
   "cell_type": "code",
   "execution_count": 32,
   "id": "eb758d5d",
   "metadata": {},
   "outputs": [],
   "source": [
    "# 1d slicing\n",
    "a = np.array([55, 56, 57, 58, 59, 60, 61])"
   ]
  },
  {
   "cell_type": "code",
   "execution_count": 7,
   "id": "3c1c8cb9",
   "metadata": {},
   "outputs": [
    {
     "name": "stdout",
     "output_type": "stream",
     "text": [
      "[55 56 57 58 59 60 61]\n"
     ]
    }
   ],
   "source": [
    "print(a[:])"
   ]
  },
  {
   "cell_type": "code",
   "execution_count": 9,
   "id": "d818f758",
   "metadata": {},
   "outputs": [
    {
     "name": "stdout",
     "output_type": "stream",
     "text": [
      "[58 59 60 61]\n"
     ]
    }
   ],
   "source": [
    "print(a[3:])"
   ]
  },
  {
   "cell_type": "code",
   "execution_count": 11,
   "id": "c476c061",
   "metadata": {},
   "outputs": [
    {
     "name": "stdout",
     "output_type": "stream",
     "text": [
      "[55 57 59 61]\n"
     ]
    }
   ],
   "source": [
    "print(a[::2])"
   ]
  },
  {
   "cell_type": "code",
   "execution_count": 13,
   "id": "a07c0257",
   "metadata": {},
   "outputs": [
    {
     "name": "stdout",
     "output_type": "stream",
     "text": [
      "[61 60 59 58 57 56 55]\n"
     ]
    }
   ],
   "source": [
    "print(a[::-1])"
   ]
  },
  {
   "cell_type": "code",
   "execution_count": 30,
   "id": "8a3f4aa9",
   "metadata": {},
   "outputs": [
    {
     "name": "stdout",
     "output_type": "stream",
     "text": [
      "[4]\n",
      "(4,)\n",
      "1\n"
     ]
    }
   ],
   "source": [
    "print(a[:1:-2])\n",
    "print (a.shape)\n",
    "print (a.ndim)\n"
   ]
  },
  {
   "cell_type": "code",
   "execution_count": 15,
   "id": "1a4777e0",
   "metadata": {},
   "outputs": [
    {
     "name": "stdout",
     "output_type": "stream",
     "text": [
      "[61 59 57]\n"
     ]
    }
   ],
   "source": [
    "print(a[-1:1:-2])"
   ]
  },
  {
   "cell_type": "code",
   "execution_count": 17,
   "id": "6de27dde",
   "metadata": {},
   "outputs": [],
   "source": [
    "# multidimensional slicing\n",
    "a = np.array([[0, 1, 2, 3],\n",
    " [4, 5, 6, 7],\n",
    " [8, 9, 10, 11],\n",
    " [12, 13, 14, 15]])"
   ]
  },
  {
   "cell_type": "code",
   "execution_count": 19,
   "id": "b9c8c023",
   "metadata": {},
   "outputs": [
    {
     "name": "stdout",
     "output_type": "stream",
     "text": [
      "[ 2  6 10 14]\n"
     ]
    }
   ],
   "source": [
    "print(a[:, 2])"
   ]
  },
  {
   "cell_type": "code",
   "execution_count": 21,
   "id": "bb8612c0",
   "metadata": {},
   "outputs": [
    {
     "name": "stdout",
     "output_type": "stream",
     "text": [
      "[4 5 6 7]\n"
     ]
    }
   ],
   "source": [
    "print(a[1, :])"
   ]
  },
  {
   "cell_type": "code",
   "execution_count": 23,
   "id": "49e5c52f",
   "metadata": {},
   "outputs": [
    {
     "name": "stdout",
     "output_type": "stream",
     "text": [
      "[4 6]\n"
     ]
    }
   ],
   "source": [
    "print(a[1, ::2])"
   ]
  },
  {
   "cell_type": "code",
   "execution_count": 25,
   "id": "f58c9b9d",
   "metadata": {},
   "outputs": [
    {
     "name": "stdout",
     "output_type": "stream",
     "text": [
      "[[ 0  1  2]\n",
      " [ 4  5  6]\n",
      " [ 8  9 10]\n",
      " [12 13 14]]\n"
     ]
    }
   ],
   "source": [
    "print(a[:, :-1])"
   ]
  },
  {
   "cell_type": "code",
   "execution_count": 27,
   "id": "c4254903",
   "metadata": {},
   "outputs": [
    {
     "name": "stdout",
     "output_type": "stream",
     "text": [
      "[[0 1 2 3]\n",
      " [4 5 6 7]]\n"
     ]
    }
   ],
   "source": [
    "print(a[:-2])"
   ]
  },
  {
   "cell_type": "code",
   "execution_count": 33,
   "id": "3547ca8c",
   "metadata": {},
   "outputs": [
    {
     "name": "stdout",
     "output_type": "stream",
     "text": [
      "1\n",
      "2\n",
      "3\n"
     ]
    }
   ],
   "source": [
    "# broadcasting\n",
    "a = np.array([1, 2, 3, 4])\n",
    "print(a.ndim)\n",
    "\n",
    "b = np.array([[2, 1, 2], [3, 2, 3], [4, 3, 4]])\n",
    "print(b.ndim)\n",
    "\n",
    "c = np.array([[[1, 2, 3], [2, 3, 4], [3, 4, 5]],\n",
    " [[1, 2, 4], [2, 3, 5], [3, 4, 6]]])\n",
    "print(c.ndim)"
   ]
  },
  {
   "cell_type": "code",
   "execution_count": 34,
   "id": "52877eaa",
   "metadata": {},
   "outputs": [
    {
     "data": {
      "text/plain": [
       "'You have data for a variety of professions, and you want to increase the \\nsalaries of just the data scientists by 10 percent every other year. Listing 3-11 \\npresents the code.'"
      ]
     },
     "execution_count": 34,
     "metadata": {},
     "output_type": "execute_result"
    }
   ],
   "source": [
    "'''You have data for a variety of professions, and you want to increase the salaries of just the data scientists by 10 \n",
    "percent every other year.'''"
   ]
  },
  {
   "cell_type": "code",
   "execution_count": 44,
   "id": "ba4c066a",
   "metadata": {},
   "outputs": [],
   "source": [
    "## Data: yearly salary in ($1000) [2025, 2026, 2027]\n",
    "dataScientist = [130, 132, 137]\n",
    "productManager = [127, 140, 145]\n",
    "designer = [118, 118, 127]\n",
    "softwareEngineer = [129, 131, 137]\n",
    "employees = np.array([dataScientist,\n",
    " productManager,\n",
    " designer,\n",
    " softwareEngineer])\n"
   ]
  },
  {
   "cell_type": "code",
   "execution_count": 45,
   "id": "bcb3c3a7",
   "metadata": {},
   "outputs": [
    {
     "name": "stdout",
     "output_type": "stream",
     "text": [
      "[[143 132 150]\n",
      " [127 140 145]\n",
      " [118 118 127]\n",
      " [129 131 137]]\n"
     ]
    }
   ],
   "source": [
    "employees[0,::2]=employees[0,::2]*1.1\n",
    "print(employees)"
   ]
  }
 ],
 "metadata": {
  "kernelspec": {
   "display_name": "Python 3 (ipykernel)",
   "language": "python",
   "name": "python3"
  },
  "language_info": {
   "codemirror_mode": {
    "name": "ipython",
    "version": 3
   },
   "file_extension": ".py",
   "mimetype": "text/x-python",
   "name": "python",
   "nbconvert_exporter": "python",
   "pygments_lexer": "ipython3",
   "version": "3.9.12"
  }
 },
 "nbformat": 4,
 "nbformat_minor": 5
}
