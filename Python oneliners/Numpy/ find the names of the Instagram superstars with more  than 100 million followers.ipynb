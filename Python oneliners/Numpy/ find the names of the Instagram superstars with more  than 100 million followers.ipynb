{
 "cells": [
  {
   "cell_type": "code",
   "execution_count": 2,
   "id": "2fdb11f4",
   "metadata": {},
   "outputs": [],
   "source": [
    "import numpy as np"
   ]
  },
  {
   "cell_type": "code",
   "execution_count": 3,
   "id": "61ae3bfd",
   "metadata": {},
   "outputs": [],
   "source": [
    "## Data: popular Instagram accounts (millions followers)\n",
    "inst = np.array([[232, \"@instagram\"],\n",
    "                 [133, \"@selenagomez\"],\n",
    "                 [59, \"@victoriassecret\"],\n",
    "                 [120, \"@cristiano\"],\n",
    "                 [111, \"@beyonce\"],\n",
    "                 [76, \"@nike\"]])"
   ]
  },
  {
   "cell_type": "code",
   "execution_count": 20,
   "id": "5dddbe88",
   "metadata": {},
   "outputs": [
    {
     "name": "stdout",
     "output_type": "stream",
     "text": [
      "['@instagram' '@selenagomez' '@cristiano' '@beyonce']\n"
     ]
    }
   ],
   "source": [
    "x=inst[inst[:,0].astype(int)>100,1]\n",
    "print(x)"
   ]
  },
  {
   "cell_type": "code",
   "execution_count": null,
   "id": "92a57434",
   "metadata": {},
   "outputs": [],
   "source": []
  }
 ],
 "metadata": {
  "kernelspec": {
   "display_name": "Python 3 (ipykernel)",
   "language": "python",
   "name": "python3"
  },
  "language_info": {
   "codemirror_mode": {
    "name": "ipython",
    "version": 3
   },
   "file_extension": ".py",
   "mimetype": "text/x-python",
   "name": "python",
   "nbconvert_exporter": "python",
   "pygments_lexer": "ipython3",
   "version": "3.9.12"
  }
 },
 "nbformat": 4,
 "nbformat_minor": 5
}
