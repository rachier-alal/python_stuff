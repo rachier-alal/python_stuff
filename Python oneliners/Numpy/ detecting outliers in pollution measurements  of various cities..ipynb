{
 "cells": [
  {
   "cell_type": "code",
   "execution_count": 3,
   "id": "851088b1",
   "metadata": {},
   "outputs": [],
   "source": [
    "import numpy as np"
   ]
  },
  {
   "cell_type": "code",
   "execution_count": 4,
   "id": "e918b5ee",
   "metadata": {},
   "outputs": [],
   "source": [
    "## Data: air quality index AQI data (row = city)\n",
    "X = np.array(\n",
    " [[ 42, 40, 41, 43, 44, 43 ], # Hong Kong\n",
    " [ 30, 31, 29, 29, 29, 30 ], # New York\n",
    " [ 8, 13, 31, 11, 11, 9 ], # Berlin\n",
    " [ 11, 11, 12, 13, 11, 12 ]]) # Montreal\n",
    "cities = np.array([\"Hong Kong\", \"New York\", \"Berlin\", \"Montreal\"])"
   ]
  },
  {
   "cell_type": "code",
   "execution_count": 7,
   "id": "9f57daf7",
   "metadata": {},
   "outputs": [
    {
     "name": "stdout",
     "output_type": "stream",
     "text": [
      "{'Hong Kong', 'Berlin', 'New York'}\n"
     ]
    }
   ],
   "source": [
    "polluted = set(cities[np.nonzero(X > np.average(X))[0]])\n",
    "print(polluted)"
   ]
  }
 ],
 "metadata": {
  "kernelspec": {
   "display_name": "Python 3 (ipykernel)",
   "language": "python",
   "name": "python3"
  },
  "language_info": {
   "codemirror_mode": {
    "name": "ipython",
    "version": 3
   },
   "file_extension": ".py",
   "mimetype": "text/x-python",
   "name": "python",
   "nbconvert_exporter": "python",
   "pygments_lexer": "ipython3",
   "version": "3.9.12"
  }
 },
 "nbformat": 4,
 "nbformat_minor": 5
}
