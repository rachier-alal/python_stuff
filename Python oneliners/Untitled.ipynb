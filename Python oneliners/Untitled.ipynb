{
 "cells": [
  {
   "cell_type": "code",
   "execution_count": 2,
   "id": "90b7b670",
   "metadata": {},
   "outputs": [],
   "source": [
    "import numpy as np"
   ]
  },
  {
   "cell_type": "code",
   "execution_count": 8,
   "id": "b70d1976",
   "metadata": {},
   "outputs": [
    {
     "name": "stdout",
     "output_type": "stream",
     "text": [
      "{'Berlin', 'Hong Kong', 'New York'}\n"
     ]
    }
   ],
   "source": [
    "X = np.array(\n",
    " [[ 42, 40, 41, 43, 44, 43 ], # Hong Kong\n",
    " [ 30, 31, 29, 29, 29, 30 ], # New York\n",
    " [ 8, 13, 31, 11, 11, 9 ], # Berlin\n",
    " [ 11, 11, 12, 13, 11, 12 ]]) # Montreal\n",
    "cities = np.array([\"Hong Kong\", \"New York\", \"Berlin\", \"Montreal\"])\n",
    "\n",
    "ol=set(cities[np.nonzero(X> np.average(X))[0]])\n",
    "print (ol)"
   ]
  }
 ],
 "metadata": {
  "kernelspec": {
   "display_name": "Python 3 (ipykernel)",
   "language": "python",
   "name": "python3"
  },
  "language_info": {
   "codemirror_mode": {
    "name": "ipython",
    "version": 3
   },
   "file_extension": ".py",
   "mimetype": "text/x-python",
   "name": "python",
   "nbconvert_exporter": "python",
   "pygments_lexer": "ipython3",
   "version": "3.9.12"
  }
 },
 "nbformat": 4,
 "nbformat_minor": 5
}
