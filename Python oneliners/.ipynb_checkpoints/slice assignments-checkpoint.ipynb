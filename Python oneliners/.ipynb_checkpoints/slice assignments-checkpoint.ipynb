{
 "cells": [
  {
   "cell_type": "code",
   "execution_count": 8,
   "id": "663621c0",
   "metadata": {},
   "outputs": [],
   "source": [
    "''''''\n",
    "visitors = ['Firefox', 'corrupted', 'Chrome', 'corrupted','Safari', 'corrupted', 'Safari', 'corrupted','Chrome', 'corrupted', 'Firefox', 'corrupted']"
   ]
  },
  {
   "cell_type": "code",
   "execution_count": 12,
   "id": "80f7a147",
   "metadata": {},
   "outputs": [
    {
     "name": "stdout",
     "output_type": "stream",
     "text": [
      "['Firefox', 'Chrome', 'Safari', 'Safari', 'Chrome', 'Firefox']\n"
     ]
    }
   ],
   "source": [
    "print(visitors[::2])"
   ]
  },
  {
   "cell_type": "code",
   "execution_count": 4,
   "id": "19b080ee",
   "metadata": {},
   "outputs": [],
   "source": [
    "visitors[1::2]=visitors[::2]"
   ]
  },
  {
   "cell_type": "code",
   "execution_count": 5,
   "id": "fc3d54bf",
   "metadata": {},
   "outputs": [
    {
     "name": "stdout",
     "output_type": "stream",
     "text": [
      "['Firefox', 'Firefox', 'Chrome', 'Chrome', 'Safari', 'Safari', 'Safari', 'Safari', 'Chrome', 'Chrome', 'Firefox', 'Firefox']\n"
     ]
    }
   ],
   "source": [
    "print(visitors)"
   ]
  }
 ],
 "metadata": {
  "kernelspec": {
   "display_name": "Python 3 (ipykernel)",
   "language": "python",
   "name": "python3"
  },
  "language_info": {
   "codemirror_mode": {
    "name": "ipython",
    "version": 3
   },
   "file_extension": ".py",
   "mimetype": "text/x-python",
   "name": "python",
   "nbconvert_exporter": "python",
   "pygments_lexer": "ipython3",
   "version": "3.9.12"
  }
 },
 "nbformat": 4,
 "nbformat_minor": 5
}
