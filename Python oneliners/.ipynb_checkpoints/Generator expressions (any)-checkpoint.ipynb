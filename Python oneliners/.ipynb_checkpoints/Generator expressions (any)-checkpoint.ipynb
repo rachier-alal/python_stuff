{
 "cells": [
  {
   "cell_type": "code",
   "execution_count": 2,
   "id": "aa9c1fe5",
   "metadata": {},
   "outputs": [
    {
     "data": {
      "text/plain": [
       "'Our data is a dictionary of dictionaries storing the hourly wages of company \\nemployees. You want to extract a list of the companies paying below your \\nstate’s minimum wage (< $9) for at least one employee;'"
      ]
     },
     "execution_count": 2,
     "metadata": {},
     "output_type": "execute_result"
    }
   ],
   "source": [
    "'''Our data is a dictionary of dictionaries storing the hourly wages of company \n",
    "employees. You want to extract a list of the companies paying below your \n",
    "state’s minimum wage (< $9) for at least one employee;'''"
   ]
  },
  {
   "cell_type": "code",
   "execution_count": 3,
   "id": "b1ac7f50",
   "metadata": {},
   "outputs": [],
   "source": [
    "## Data\n",
    "companies = {\n",
    " 'CoolCompany' : {'Alice' : 33, 'Bob' : 28, 'Frank' : 29},\n",
    " 'CheapCompany' : {'Ann' : 4, 'Lee' : 9, 'Chrisi' : 7},\n",
    " 'SosoCompany' : {'Esther' : 38, 'Cole' : 8, 'Paris' : 18}}"
   ]
  },
  {
   "cell_type": "code",
   "execution_count": 7,
   "id": "9ff65ba2",
   "metadata": {},
   "outputs": [
    {
     "ename": "SyntaxError",
     "evalue": "invalid syntax (1127401539.py, line 1)",
     "output_type": "error",
     "traceback": [
      "\u001b[1;36m  Input \u001b[1;32mIn [7]\u001b[1;36m\u001b[0m\n\u001b[1;33m    oneliner=[x for x in companies if exists companies[x].values()<9]\u001b[0m\n\u001b[1;37m                                             ^\u001b[0m\n\u001b[1;31mSyntaxError\u001b[0m\u001b[1;31m:\u001b[0m invalid syntax\n"
     ]
    }
   ],
   "source": [
    "oneliner=[x for x in companies if any(y<9 for y in companies[x].values())]"
   ]
  }
 ],
 "metadata": {
  "kernelspec": {
   "display_name": "Python 3 (ipykernel)",
   "language": "python",
   "name": "python3"
  },
  "language_info": {
   "codemirror_mode": {
    "name": "ipython",
    "version": 3
   },
   "file_extension": ".py",
   "mimetype": "text/x-python",
   "name": "python",
   "nbconvert_exporter": "python",
   "pygments_lexer": "ipython3",
   "version": "3.9.12"
  }
 },
 "nbformat": 4,
 "nbformat_minor": 5
}
