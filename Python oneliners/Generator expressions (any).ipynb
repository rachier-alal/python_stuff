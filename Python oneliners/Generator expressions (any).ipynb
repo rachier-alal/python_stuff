{
 "cells": [
  {
   "cell_type": "code",
   "execution_count": 2,
   "id": "05b2e2bf",
   "metadata": {},
   "outputs": [
    {
     "data": {
      "text/plain": [
       "'Our data is a dictionary of dictionaries storing the hourly wages of company \\nemployees. You want to extract a list of the companies paying below your \\nstate’s minimum wage (< $9) for at least one employee;'"
      ]
     },
     "execution_count": 2,
     "metadata": {},
     "output_type": "execute_result"
    }
   ],
   "source": [
    "'''Our data is a dictionary of dictionaries storing the hourly wages of company \n",
    "employees. You want to extract a list of the companies paying below your \n",
    "state’s minimum wage (< $9) for at least one employee;'''"
   ]
  },
  {
   "cell_type": "code",
   "execution_count": 3,
   "id": "f1558fee",
   "metadata": {},
   "outputs": [],
   "source": [
    "## Data\n",
    "companies = {\n",
    " 'CoolCompany' : {'Alice' : 33, 'Bob' : 28, 'Frank' : 29},\n",
    " 'CheapCompany' : {'Ann' : 4, 'Lee' : 9, 'Chrisi' : 7},\n",
    " 'SosoCompany' : {'Esther' : 38, 'Cole' : 8, 'Paris' : 18}}"
   ]
  },
  {
   "cell_type": "code",
   "execution_count": 9,
   "id": "fe5c48e7",
   "metadata": {},
   "outputs": [
    {
     "name": "stdout",
     "output_type": "stream",
     "text": [
      "['CheapCompany', 'SosoCompany']\n"
     ]
    }
   ],
   "source": [
    "oneliner=[x for x in companies if any(y<9 for y in companies[x].values())]\n",
    "print(oneliner)"
   ]
  }
 ],
 "metadata": {
  "kernelspec": {
   "display_name": "Python 3 (ipykernel)",
   "language": "python",
   "name": "python3"
  },
  "language_info": {
   "codemirror_mode": {
    "name": "ipython",
    "version": 3
   },
   "file_extension": ".py",
   "mimetype": "text/x-python",
   "name": "python",
   "nbconvert_exporter": "python",
   "pygments_lexer": "ipython3",
   "version": "3.9.12"
  }
 },
 "nbformat": 4,
 "nbformat_minor": 5
}
