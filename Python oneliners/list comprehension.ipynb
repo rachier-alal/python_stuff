{
 "cells": [
  {
   "cell_type": "code",
   "execution_count": 1,
   "id": "02ffcdbf",
   "metadata": {},
   "outputs": [
    {
     "data": {
      "text/plain": [
       "'Say you work in the human resources department of a large company and \\nneed to find all staff members who earn at least $100,000 per year. Your \\ndesired output is a list of tuples, each consisting of two values: the employee \\nname and the employee’s yearly salary. Here’s the code you develop:'"
      ]
     },
     "execution_count": 1,
     "metadata": {},
     "output_type": "execute_result"
    }
   ],
   "source": [
    "'''Say you work in the human resources department of a large company and need to find all staff members who earn at least\n",
    "$100,000 per year. Your desired output is a list of tuples, each consisting of two values: the employee \n",
    "name and the employee’s yearly salary. Here’s the code you develop:'''"
   ]
  },
  {
   "cell_type": "code",
   "execution_count": 2,
   "id": "b1bf46bb",
   "metadata": {},
   "outputs": [],
   "source": [
    "employees = {'Alice' : 100000,\n",
    " 'Bob' : 99817,\n",
    " 'Carol' : 122908,\n",
    " 'Frank' : 88123,\n",
    " 'Eve' : 93121}\n"
   ]
  },
  {
   "cell_type": "code",
   "execution_count": 11,
   "id": "8430358c",
   "metadata": {},
   "outputs": [
    {
     "name": "stdout",
     "output_type": "stream",
     "text": [
      "[('Alice', 100000), ('Carol', 122908)]\n"
     ]
    }
   ],
   "source": [
    "ol=[(x, employees[x]) for x in employees if employees[x]>=100000]\n",
    "print(ol)"
   ]
  },
  {
   "cell_type": "code",
   "execution_count": 14,
   "id": "16d475c3",
   "metadata": {},
   "outputs": [
    {
     "name": "stdout",
     "output_type": "stream",
     "text": [
      "[('Alice', 100000), ('Carol', 122908)]\n"
     ]
    }
   ],
   "source": [
    "'''dictionary.items()'''\n",
    "ol1=[(k,v) for k,v in employees.items() if v>=100000]\n",
    "print(ol1)"
   ]
  },
  {
   "cell_type": "code",
   "execution_count": null,
   "id": "86ff7a6f",
   "metadata": {},
   "outputs": [],
   "source": []
  }
 ],
 "metadata": {
  "kernelspec": {
   "display_name": "Python 3 (ipykernel)",
   "language": "python",
   "name": "python3"
  },
  "language_info": {
   "codemirror_mode": {
    "name": "ipython",
    "version": 3
   },
   "file_extension": ".py",
   "mimetype": "text/x-python",
   "name": "python",
   "nbconvert_exporter": "python",
   "pygments_lexer": "ipython3",
   "version": "3.9.12"
  }
 },
 "nbformat": 4,
 "nbformat_minor": 5
}
