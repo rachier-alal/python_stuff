{
 "cells": [
  {
   "cell_type": "code",
   "execution_count": 1,
   "id": "b00cbd3a",
   "metadata": {},
   "outputs": [
    {
     "data": {
      "text/plain": [
       "'Our goal is to solve the following problem: given a multiline string, create \\na list of lists—each consisting of all the words in a line that have more than \\nthree characters. Listing 2-2 provides the data and the solution'"
      ]
     },
     "execution_count": 1,
     "metadata": {},
     "output_type": "execute_result"
    }
   ],
   "source": [
    "'''Our goal is to solve the following problem: given a multiline string, create \n",
    "a list of lists—each consisting of all the words in a line that have more than \n",
    "three characters. Listing 2-2 provides the data and the solution'''"
   ]
  },
  {
   "cell_type": "code",
   "execution_count": 2,
   "id": "81e9ba46",
   "metadata": {},
   "outputs": [],
   "source": [
    "## Data\n",
    "text = '''\n",
    "Call me Ishmael. Some years ago - never mind how long precisely - having\n",
    "little or no money in my purse, and nothing particular to interest me\n",
    "on shore, I thought I would sail about a little and see the watery part\n",
    "of the world. It is a way I have of driving off the spleen, and regulating\n",
    "the circulation. - Moby Dick'''\n"
   ]
  },
  {
   "cell_type": "code",
   "execution_count": 13,
   "id": "6df1257b",
   "metadata": {},
   "outputs": [
    {
     "name": "stdout",
     "output_type": "stream",
     "text": [
      "['Call me Ishmael. Some years ago - never mind how long precisely - having', 'little or no money in my purse, and nothing particular to interest me', 'on shore, I thought I would sail about a little and see the watery part', 'of the world. It is a way I have of driving off the spleen, and regulating', 'the circulation. - Moby Dick']\n"
     ]
    }
   ],
   "source": [
    "ol=[x for x in [y for y in text.strip().split('\\n')]]\n",
    "print(ol)"
   ]
  }
 ],
 "metadata": {
  "kernelspec": {
   "display_name": "Python 3 (ipykernel)",
   "language": "python",
   "name": "python3"
  },
  "language_info": {
   "codemirror_mode": {
    "name": "ipython",
    "version": 3
   },
   "file_extension": ".py",
   "mimetype": "text/x-python",
   "name": "python",
   "nbconvert_exporter": "python",
   "pygments_lexer": "ipython3",
   "version": "3.9.12"
  }
 },
 "nbformat": 4,
 "nbformat_minor": 5
}
