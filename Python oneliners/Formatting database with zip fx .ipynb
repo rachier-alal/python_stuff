{
 "cells": [
  {
   "cell_type": "code",
   "execution_count": 1,
   "id": "e92264e4",
   "metadata": {},
   "outputs": [
    {
     "data": {
      "text/plain": [
       "'In this section, you’ll learn how to apply database column names to a list of \\nrows by using the zip() function.'"
      ]
     },
     "execution_count": 1,
     "metadata": {},
     "output_type": "execute_result"
    }
   ],
   "source": [
    "'''In this section, you’ll learn how to apply database column names to a list of \n",
    "rows by using the zip() function.'''"
   ]
  },
  {
   "cell_type": "code",
   "execution_count": 4,
   "id": "6633f74e",
   "metadata": {},
   "outputs": [
    {
     "name": "stdout",
     "output_type": "stream",
     "text": [
      "[(1, 4), (2, 5), (3, 6)]\n",
      "[1, 2, 3]\n",
      "[4, 5, 6]\n"
     ]
    }
   ],
   "source": [
    "lst_1 = [1, 2, 3]\n",
    "lst_2 = [4, 5, 6]\n",
    "# Zip two lists together\n",
    "zipped = list(zip(lst_1, lst_2))\n",
    "print(zipped)\n",
    "# [(1, 4), (2, 5), (3, 6)]\n",
    "# Unzip to lists again\n",
    "lst_1_new, lst_2_new = zip(*zipped)\n",
    "print(list(lst_1_new))\n",
    "print(list(lst_2_new))"
   ]
  },
  {
   "cell_type": "code",
   "execution_count": 5,
   "id": "dd38c39a",
   "metadata": {},
   "outputs": [
    {
     "data": {
      "text/plain": [
       "\"Now, imagine you work in the IT branch of the controlling department \\nof your company. You maintain the database of all employees with the col\\x02umn names: 'name', 'salary', and 'job'. \\nHowever, your data is out of shape— it’s a collection of rows in the form ('Bob', 99000, 'mid-level manager'). You \\nwant to associate your column names to each data entry to bring it into the \\nreadable form {'name': 'Bob', 'salary': 99000, 'job': 'mid-level manager'}. \\nHow can you achieve that?\""
      ]
     },
     "execution_count": 5,
     "metadata": {},
     "output_type": "execute_result"
    }
   ],
   "source": [
    "'''Now, imagine you work in the IT branch of the controlling department \n",
    "of your company. You maintain the database of all employees with the col\u0002umn names: 'name', 'salary', and 'job'. \n",
    "However, your data is out of shape— it’s a collection of rows in the form ('Bob', 99000, 'mid-level manager'). You \n",
    "want to associate your column names to each data entry to bring it into the \n",
    "readable form {'name': 'Bob', 'salary': 99000, 'job': 'mid-level manager'}. \n",
    "How can you achieve that?'''"
   ]
  },
  {
   "cell_type": "code",
   "execution_count": 11,
   "id": "380965ae",
   "metadata": {},
   "outputs": [
    {
     "name": "stdout",
     "output_type": "stream",
     "text": [
      "[{'name': 'Alice', 'salary': 180000, 'job': 'data scientist'}, {'name': 'Bob', 'salary': 99000, 'job': 'mid-level manager'}, {'name': 'Frank', 'salary': 87000, 'job': 'CEO'}]\n"
     ]
    }
   ],
   "source": [
    "## Data\n",
    "column_names = ['name', 'salary', 'job']\n",
    "db_rows = [('Alice', 180000, 'data scientist'),\n",
    " ('Bob', 99000, 'mid-level manager'),\n",
    " ('Frank', 87000, 'CEO')]\n",
    "oneliner=[dict(zip(column_names,rows)) for rows in db_rows]\n",
    "print(oneliner)"
   ]
  }
 ],
 "metadata": {
  "kernelspec": {
   "display_name": "Python 3 (ipykernel)",
   "language": "python",
   "name": "python3"
  },
  "language_info": {
   "codemirror_mode": {
    "name": "ipython",
    "version": 3
   },
   "file_extension": ".py",
   "mimetype": "text/x-python",
   "name": "python",
   "nbconvert_exporter": "python",
   "pygments_lexer": "ipython3",
   "version": "3.9.12"
  }
 },
 "nbformat": 4,
 "nbformat_minor": 5
}
