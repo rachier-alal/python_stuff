{
 "cells": [
  {
   "cell_type": "code",
   "execution_count": 18,
   "id": "67696fac",
   "metadata": {},
   "outputs": [
    {
     "name": "stdout",
     "output_type": "stream",
     "text": [
      "a fully-managed MySQL and PostgreSQL\n"
     ]
    }
   ],
   "source": [
    "## Data\n",
    "letters_amazon = '''We spent several years building our own database engine,Amazon Aurora, \n",
    "a fully-managed MySQL and PostgreSQL-compatible service with the same or better durability\n",
    "and availability as the commercial engines,\n",
    "but at one-tenth of the cost. We were not surprised when this worked.'''\n",
    "\n",
    "## One-Liner\n",
    "find = lambda x, q: x[x.find(q)-18:x.find(q)+18] if q in x else -1\n",
    "print(find(letters_amazon, 'SQL'))\n"
   ]
  }
 ],
 "metadata": {
  "kernelspec": {
   "display_name": "Python 3 (ipykernel)",
   "language": "python",
   "name": "python3"
  },
  "language_info": {
   "codemirror_mode": {
    "name": "ipython",
    "version": 3
   },
   "file_extension": ".py",
   "mimetype": "text/x-python",
   "name": "python",
   "nbconvert_exporter": "python",
   "pygments_lexer": "ipython3",
   "version": "3.9.12"
  }
 },
 "nbformat": 4,
 "nbformat_minor": 5
}
